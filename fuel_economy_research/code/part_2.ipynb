{
  "nbformat": 4,
  "nbformat_minor": 0,
  "metadata": {
    "colab": {
      "provenance": []
    },
    "kernelspec": {
      "name": "python3",
      "display_name": "Python 3"
    },
    "language_info": {
      "name": "python"
    }
  },
  "cells": [
    {
      "cell_type": "markdown",
      "source": [
        "# **Modelling**"
      ],
      "metadata": {
        "id": "ujB6VRpnRSUi"
      }
    },
    {
      "cell_type": "markdown",
      "source": [
        "In this series of notebooks, I am working on a supervised, regression machine learning problem. Using dataset of Fuel Economy, I want to predict how much money I will spend on fuel in 5 years and determine the factors influencing."
      ],
      "metadata": {
        "id": "kmfmWLrYRUzB"
      }
    },
    {
      "cell_type": "markdown",
      "source": [
        "In this notebook I compare several machine learning models on a performance metric, perform hyperparameter tuning on the best model to optimize it for the problem, evaluate the best model on the testing set. After all I interpret the model results to the extent possible"
      ],
      "metadata": {
        "id": "ccxnUHxpRUqD"
      }
    },
    {
      "cell_type": "code",
      "source": [
        "# import library for data manipulation and visualization\n",
        "import pandas as pd\n",
        "import numpy as np\n",
        "import matplotlib.pyplot as plt\n",
        "import seaborn as sns\n",
        "from IPython.core.pylabtools import figsize\n",
        "\n",
        "import warnings\n",
        "\n",
        "warnings.filterwarnings('ignore')\n",
        "\n",
        "# import machine learning models\n",
        "\n",
        "from sklearn.preprocessing import MinMaxScaler\n",
        "from sklearn.linear_model import LinearRegression, Ridge, Lasso\n",
        "from sklearn.ensemble import GradientBoostingRegressor\n",
        "from sklearn.neighbors import KNeighborsRegressor\n",
        "from xgboost import XGBRegressor\n",
        "\n",
        "# library for hyperparameter tuning\n",
        "from sklearn.model_selection import RandomizedSearchCV"
      ],
      "metadata": {
        "id": "MX85XlGVRRR4"
      },
      "execution_count": null,
      "outputs": []
    },
    {
      "cell_type": "markdown",
      "source": [
        "### Read data previous notebook"
      ],
      "metadata": {
        "id": "Lrx5-fKoRR0V"
      }
    },
    {
      "cell_type": "code",
      "source": [
        "# Read in data into dataframes\n",
        "X = pd.read_csv('training_features.csv')\n",
        "X_test = pd.read_csv('testing_features.csv')\n",
        "y = pd.read_csv('training_labels.csv')\n",
        "y_test = pd.read_csv('testing_labels.csv')"
      ],
      "metadata": {
        "id": "m_3mFy3wRgw2"
      },
      "execution_count": null,
      "outputs": []
    },
    {
      "cell_type": "markdown",
      "source": [
        "### To understand that machine learning is suitable for this problem, I will establish a ***baseline***. If it cannot outperform, then the problem cannot be solved using machine learning."
      ],
      "metadata": {
        "id": "v2AW0kj9RqN3"
      }
    },
    {
      "cell_type": "code",
      "source": [
        "# Function to calculate mean absolute error\n",
        "def mae(y_true, y_pred):\n",
        "    return np.mean(abs(y_true - y_pred))"
      ],
      "metadata": {
        "id": "AFTH4yBIRq76"
      },
      "execution_count": null,
      "outputs": []
    },
    {
      "cell_type": "code",
      "source": [
        "# Now we can make the median guess and evaluate it on the test set.\n",
        "baseline_guess = np.median(y)\n",
        "\n",
        "print('The baseline guess is a score of %0.2f' % baseline_guess)\n",
        "print(\"Baseline Performance on the test set: MAE = %0.4f\" % mae(y_test, baseline_guess))"
      ],
      "metadata": {
        "id": "RvQ9dn1iRtpx",
        "colab": {
          "base_uri": "https://localhost:8080/"
        },
        "outputId": "29e740af-a40b-47de-fb7c-f5f0485395ed"
      },
      "execution_count": null,
      "outputs": [
        {
          "output_type": "stream",
          "name": "stdout",
          "text": [
            "The baseline guess is a score of -5250.00\n",
            "Baseline Performance on the test set: MAE = 3414.6288\n"
          ]
        }
      ]
    },
    {
      "cell_type": "markdown",
      "source": [
        "### **Scaling Features**"
      ],
      "metadata": {
        "id": "-iEAmCX-RuPg"
      }
    },
    {
      "cell_type": "markdown",
      "source": [
        "Features are in different units, and I want to normalize the features so the units do not affect the algorithm"
      ],
      "metadata": {
        "id": "5mfXUx9ARz3q"
      }
    },
    {
      "cell_type": "code",
      "source": [
        "# Create the scaler object with a range of 0-1\n",
        "scaler = MinMaxScaler(feature_range=(0, 1))\n",
        "\n",
        "# Fit on the training data\n",
        "scaler.fit(X)\n",
        "scaler.fit(X_test)\n",
        "\n",
        "# Transform both the training and testing data\n",
        "X = scaler.transform(X)\n",
        "X_test = scaler.transform(X_test)"
      ],
      "metadata": {
        "id": "KxcIwXpFRxrj"
      },
      "execution_count": null,
      "outputs": []
    },
    {
      "cell_type": "code",
      "source": [
        "# Convert y to one-dimensional array (vector)\n",
        "y = np.array(y).reshape((-1, ))\n",
        "y_test = np.array(y_test).reshape((-1, ))"
      ],
      "metadata": {
        "id": "pxjePAdmR2nr"
      },
      "execution_count": null,
      "outputs": []
    },
    {
      "cell_type": "markdown",
      "source": [
        "## **Models to Evaluate**"
      ],
      "metadata": {
        "id": "J9dp1HGjR5LN"
      }
    },
    {
      "cell_type": "markdown",
      "source": [
        "I will compare 4 different machine learning models. To compare the models, I am going to be mostly using the defaults for the model hyperparameters. Then I select the best performing model for further optimization using hyperparameter tuning."
      ],
      "metadata": {
        "id": "KVCfWmYdR8Wm"
      }
    },
    {
      "cell_type": "code",
      "source": [
        "# Function to calculate mean absolute error\n",
        "def mae(y_true, y_pred):\n",
        "    return np.mean(abs(y_true - y_pred))\n",
        "\n",
        "# Takes in a model, trains the model, and evaluates the model on the test set\n",
        "def fit_and_evaluate(model):\n",
        "    model.fit(X, y)\n",
        "    model_pred = model.predict(X_test)\n",
        "    model_mae = mae(y_test, model_pred)\n",
        "\n",
        "    return model_mae"
      ],
      "metadata": {
        "id": "XzU3IieRR-96"
      },
      "execution_count": null,
      "outputs": []
    },
    {
      "cell_type": "code",
      "source": [
        "lr = LinearRegression()\n",
        "lr_mae = fit_and_evaluate(lr)\n",
        "\n",
        "print('Linear Regression Performance on the test set: MAE = %0.4f' % lr_mae)"
      ],
      "metadata": {
        "id": "prSgqeLXSA2v",
        "colab": {
          "base_uri": "https://localhost:8080/"
        },
        "outputId": "2974198d-2587-4aa2-d3cf-a14c1f710abb"
      },
      "execution_count": null,
      "outputs": [
        {
          "output_type": "stream",
          "name": "stdout",
          "text": [
            "Linear Regression Performance on the test set: MAE = 606.7801\n"
          ]
        }
      ]
    },
    {
      "cell_type": "code",
      "source": [
        "ridge_reg = Ridge(alpha=0.1, random_state=42)\n",
        "ridge_mae = fit_and_evaluate(ridge_reg)\n",
        "\n",
        "print('Ridge Performance on the test set: MAE = %0.4f' % ridge_mae)"
      ],
      "metadata": {
        "id": "ZuQvB25gSCq6",
        "colab": {
          "base_uri": "https://localhost:8080/"
        },
        "outputId": "bdd50ca2-d4a8-45a1-85b4-8f118d831ddd"
      },
      "execution_count": null,
      "outputs": [
        {
          "output_type": "stream",
          "name": "stdout",
          "text": [
            "Ridge Performance on the test set: MAE = 607.1659\n"
          ]
        }
      ]
    },
    {
      "cell_type": "code",
      "source": [
        "lasso_reg = Lasso(alpha=0.1, random_state=42)\n",
        "lasso_mae = fit_and_evaluate(lasso_reg)\n",
        "\n",
        "print('Lasso Performance on the test set: MAE = %0.4f' % lasso_mae)"
      ],
      "metadata": {
        "id": "Veeb32VjSD6f",
        "colab": {
          "base_uri": "https://localhost:8080/"
        },
        "outputId": "53e71985-7636-4597-8fc6-62e2d842779c"
      },
      "execution_count": null,
      "outputs": [
        {
          "output_type": "stream",
          "name": "stdout",
          "text": [
            "Lasso Performance on the test set: MAE = 607.0239\n"
          ]
        }
      ]
    },
    {
      "cell_type": "code",
      "source": [
        "gradient_boosted = GradientBoostingRegressor(random_state =42)\n",
        "gradient_boosted_mae = fit_and_evaluate(gradient_boosted)\n",
        "\n",
        "print('Gradient Boosted Regression Performance on the test set: MAE = %0.4f' % gradient_boosted_mae)"
      ],
      "metadata": {
        "id": "MJLEdN1TSFVU",
        "colab": {
          "base_uri": "https://localhost:8080/"
        },
        "outputId": "5df69fcf-fe95-4f85-92e8-2e95c9ca4f04"
      },
      "execution_count": null,
      "outputs": [
        {
          "output_type": "stream",
          "name": "stdout",
          "text": [
            "Gradient Boosted Regression Performance on the test set: MAE = 15.3953\n"
          ]
        }
      ]
    },
    {
      "cell_type": "code",
      "source": [
        "knn = KNeighborsRegressor(n_neighbors=10)\n",
        "knn_mae = fit_and_evaluate(knn)\n",
        "\n",
        "print('K-Nearest Neighbors Regression Performance on the test set: MAE = %0.4f' % knn_mae)"
      ],
      "metadata": {
        "id": "NlPU8MC_SG0L",
        "colab": {
          "base_uri": "https://localhost:8080/"
        },
        "outputId": "8bbcf0f7-e390-40b9-d91e-521314f24df5"
      },
      "execution_count": null,
      "outputs": [
        {
          "output_type": "stream",
          "name": "stdout",
          "text": [
            "K-Nearest Neighbors Regression Performance on the test set: MAE = 174.6101\n"
          ]
        }
      ]
    },
    {
      "cell_type": "code",
      "source": [
        "xgb = XGBRegressor(booster='gbtree', objective='reg:squarederror')\n",
        "xgb_mae = fit_and_evaluate(xgb)\n",
        "print('XGBRegressor Performance on the test set: MAE = %0.4f' % xgb_mae)"
      ],
      "metadata": {
        "id": "OEa2RnDBSJwT",
        "colab": {
          "base_uri": "https://localhost:8080/"
        },
        "outputId": "2c2970ee-d048-4fe3-9d17-c86f6c0f4485"
      },
      "execution_count": null,
      "outputs": [
        {
          "output_type": "stream",
          "name": "stdout",
          "text": [
            "xgb Performance on the test set: MAE = 19.7914\n"
          ]
        }
      ]
    },
    {
      "cell_type": "code",
      "source": [
        "plt.style.use('fivethirtyeight')\n",
        "figsize(8, 6)\n",
        "\n",
        "# Dataframe to hold the results\n",
        "model_comparison = pd.DataFrame({'model': ['Linear Regression',\n",
        "                                            'Gradient Boosted',\n",
        "                                            'K-Nearest Neighbors', 'XGBRegressor', 'Ridge', 'Lasso'],\n",
        "                                 'mae': [lr_mae,\n",
        "                                         gradient_boosted_mae, knn_mae, xgb_mae, ridge_mae, lasso_mae]})\n",
        "\n",
        "# Horizontal bar chart of test mae\n",
        "model_comparison.sort_values('mae', ascending = False).plot(x = 'model', y = 'mae', kind = 'barh',\n",
        "                                                           color = '#008080', edgecolor = 'black')\n",
        "\n",
        "# Plot formatting\n",
        "plt.ylabel(''); plt.yticks(size = 14); plt.xlabel('Mean Absolute Error'); plt.xticks(size = 14)\n",
        "plt.title('Model Comparison on Test MAE', size = 20)"
      ],
      "metadata": {
        "id": "Z5g3r1oQSLlM",
        "colab": {
          "base_uri": "https://localhost:8080/",
          "height": 458
        },
        "outputId": "c7daef07-e777-4f9e-f7c5-c335d5aa962b"
      },
      "execution_count": null,
      "outputs": [
        {
          "output_type": "execute_result",
          "data": {
            "text/plain": [
              "Text(0.5, 1.0, 'Model Comparison on Test MAE')"
            ]
          },
          "metadata": {},
          "execution_count": 65
        },
        {
          "output_type": "display_data",
          "data": {
            "text/plain": [
              "<Figure size 576x432 with 1 Axes>"
            ],
            "image/png": "[encoded data removed]"
          },
          "metadata": {}
        }
      ]
    },
    {
      "cell_type": "markdown",
      "source": [
        "I am going to concentrate on optimizing the best model using hyperparamter tuning. Given the results here, I will concentrate on using the XGBRegressor (scikit-Learn version GradientBoostingRegressor is generally slower than the XGBoost version)\n"
      ],
      "metadata": {
        "id": "fBOeLEizSNW2"
      }
    },
    {
      "cell_type": "markdown",
      "source": [
        "## **Hyperparameter Tuning with Random Search and Cross Validation**"
      ],
      "metadata": {
        "id": "d3z__ijlSQFr"
      }
    },
    {
      "cell_type": "markdown",
      "source": [
        "I can choose the best hyperparameters for a model through random search and cross validation. I selected 6 different hyperparameters to tune in the XGBregressor."
      ],
      "metadata": {
        "id": "DFZ6kqh9SUkx"
      }
    },
    {
      "cell_type": "code",
      "source": [
        "# Define the grid of hyperparameters to search\n",
        "param_lst = {\n",
        "    'learning_rate' : [0.01, 0.1, 0.15, 0.3, 0.5],\n",
        "    'n_estimators' : [100, 500, 1000, 2000, 3000],\n",
        "    'max_depth' : [3, 6, 9],\n",
        "    'min_child_weight' : [1, 5, 10, 20],\n",
        "    'reg_alpha' : [0.001, 0.01, 0.1],\n",
        "    'reg_lambda' : [0.001, 0.01, 0.1]\n",
        "}\n",
        "\n",
        "# Set up the random search with 5-fold cross validation\n",
        "xgb_reg = RandomizedSearchCV(estimator = xgb, param_distributions = param_lst,\n",
        "                              n_iter = 30, scoring = 'neg_mean_absolute_error',\n",
        "                              cv = 5)\n",
        "# Fit on the training data\n",
        "xgb_search = xgb_reg.fit(X, y)"
      ],
      "metadata": {
        "id": "6o5QbXXpSWyO"
      },
      "execution_count": null,
      "outputs": []
    },
    {
      "cell_type": "code",
      "source": [
        "xgb_search.best_estimator_"
      ],
      "metadata": {
        "id": "T8wBXaJwSYHK",
        "colab": {
          "base_uri": "https://localhost:8080/"
        },
        "outputId": "15b2066f-76b0-4c83-eea5-573b83316099"
      },
      "execution_count": null,
      "outputs": [
        {
          "output_type": "execute_result",
          "data": {
            "text/plain": [
              "XGBRegressor(max_depth=9, n_estimators=500, objective='reg:squarederror',\n",
              "             reg_alpha=0.1, reg_lambda=0.01)"
            ]
          },
          "metadata": {},
          "execution_count": 67
        }
      ]
    },
    {
      "cell_type": "markdown",
      "source": [
        "## Evaluate Final Model on the Test **Set**"
      ],
      "metadata": {
        "id": "skEfFZy_SZlQ"
      }
    },
    {
      "cell_type": "markdown",
      "source": [
        "I will use the best model from hyperparameter tuning to make predictions on the testing set.\n",
        "\n",
        "For comparison, I can also look at the performance of the default model."
      ],
      "metadata": {
        "id": "98ogVcUeScTs"
      }
    },
    {
      "cell_type": "code",
      "source": [
        "# Default model\n",
        "default_model = XGBRegressor(booster='gbtree', objective='reg:squarederror')\n",
        "\n",
        "# Select the best model\n",
        "final_model = xgb_search.best_estimator_"
      ],
      "metadata": {
        "id": "wu2PjUFMSeXy"
      },
      "execution_count": null,
      "outputs": []
    },
    {
      "cell_type": "code",
      "source": [
        "default_model.fit(X, y)"
      ],
      "metadata": {
        "id": "-P_LFJ8USfqY",
        "colab": {
          "base_uri": "https://localhost:8080/"
        },
        "outputId": "1808cab5-74ac-4639-df2d-6a31d8dca509"
      },
      "execution_count": null,
      "outputs": [
        {
          "output_type": "execute_result",
          "data": {
            "text/plain": [
              "XGBRegressor(objective='reg:squarederror')"
            ]
          },
          "metadata": {},
          "execution_count": 69
        }
      ]
    },
    {
      "cell_type": "code",
      "source": [
        "final_model.fit(X, y)"
      ],
      "metadata": {
        "id": "r6bV28FyShRd",
        "colab": {
          "base_uri": "https://localhost:8080/"
        },
        "outputId": "b80a794e-0de5-42d3-f474-01d08ffe9849"
      },
      "execution_count": null,
      "outputs": [
        {
          "output_type": "execute_result",
          "data": {
            "text/plain": [
              "XGBRegressor(max_depth=9, n_estimators=500, objective='reg:squarederror',\n",
              "             reg_alpha=0.1, reg_lambda=0.01)"
            ]
          },
          "metadata": {},
          "execution_count": 70
        }
      ]
    },
    {
      "cell_type": "code",
      "source": [
        "# Compare default and final model\n",
        "default_pred = default_model.predict(X_test)\n",
        "final_pred = final_model.predict(X_test)\n",
        "\n",
        "print('Default model performance on the test set: MAE = %0.4f.' % mae(y_test, default_pred))\n",
        "print('Final model performance on the test set:   MAE = %0.4f.' % mae(y_test, final_pred))"
      ],
      "metadata": {
        "id": "7QRirCCeSiwT",
        "colab": {
          "base_uri": "https://localhost:8080/"
        },
        "outputId": "a8e9461e-8fb7-4af6-dcfb-bc449e3f97fe"
      },
      "execution_count": null,
      "outputs": [
        {
          "output_type": "stream",
          "name": "stdout",
          "text": [
            "Default model performance on the test set: MAE = 19.7914.\n",
            "Final model performance on the test set:   MAE = 1.0820.\n"
          ]
        }
      ]
    },
    {
      "cell_type": "markdown",
      "source": [
        "The model showed excellent results!"
      ],
      "metadata": {
        "id": "OErOM64USl0q"
      }
    },
    {
      "cell_type": "markdown",
      "source": [
        "## **Interprete the Model**"
      ],
      "metadata": {
        "id": "FLR-P32ASnUi"
      }
    },
    {
      "cell_type": "markdown",
      "source": [
        "Interpreting the information I received from the model"
      ],
      "metadata": {
        "id": "NvHCk5-rSp-I"
      }
    },
    {
      "cell_type": "code",
      "source": [
        "# read the file to display the column names\n",
        "train_features = pd.read_csv('training_features.csv')\n",
        "test_features = pd.read_csv('testing_features.csv')\n",
        "\n",
        "# Extract the feature importances into a dataframe\n",
        "feature_results = pd.DataFrame({'feature': list(train_features.columns),\n",
        "                                'importance': final_model.feature_importances_})\n",
        "\n",
        "# Show the most important\n",
        "feature_results = feature_results.sort_values('importance', ascending = False).reset_index(drop=True)\n",
        "\n",
        "feature_results.head(8)"
      ],
      "metadata": {
        "id": "yVeyutwtSt6O",
        "colab": {
          "base_uri": "https://localhost:8080/",
          "height": 300
        },
        "outputId": "9bc72663-47e6-4928-82f8-3f8cd0aa3cf0"
      },
      "execution_count": null,
      "outputs": [
        {
          "output_type": "execute_result",
          "data": {
            "text/plain": [
              "      feature  importance\n",
              "0  fuelCost08    0.972556\n",
              "1   barrels08    0.021865\n",
              "2   cylinders    0.003963\n",
              "3       drive    0.000971\n",
              "4       trany    0.000287\n",
              "5   fuelType1    0.000227\n",
              "6   highway08    0.000101\n",
              "7       displ    0.000030"
            ],
            "text/html": [
              "\n",
              "  <div id=\"df-f397e65b-aed3-4c3c-bcf4-18cd55b41c2c\">\n",
              "    <div class=\"colab-df-container\">\n",
              "      <div>\n",
              "<style scoped>\n",
              "    .dataframe tbody tr th:only-of-type {\n",
              "        vertical-align: middle;\n",
              "    }\n",
              "\n",
              "    .dataframe tbody tr th {\n",
              "        vertical-align: top;\n",
              "    }\n",
              "\n",
              "    .dataframe thead th {\n",
              "        text-align: right;\n",
              "    }\n",
              "</style>\n",
              "<table border=\"1\" class=\"dataframe\">\n",
              "  <thead>\n",
              "    <tr style=\"text-align: right;\">\n",
              "      <th></th>\n",
              "      <th>feature</th>\n",
              "      <th>importance</th>\n",
              "    </tr>\n",
              "  </thead>\n",
              "  <tbody>\n",
              "    <tr>\n",
              "      <th>0</th>\n",
              "      <td>fuelCost08</td>\n",
              "      <td>0.972556</td>\n",
              "    </tr>\n",
              "    <tr>\n",
              "      <th>1</th>\n",
              "      <td>barrels08</td>\n",
              "      <td>0.021865</td>\n",
              "    </tr>\n",
              "    <tr>\n",
              "      <th>2</th>\n",
              "      <td>cylinders</td>\n",
              "      <td>0.003963</td>\n",
              "    </tr>\n",
              "    <tr>\n",
              "      <th>3</th>\n",
              "      <td>drive</td>\n",
              "      <td>0.000971</td>\n",
              "    </tr>\n",
              "    <tr>\n",
              "      <th>4</th>\n",
              "      <td>trany</td>\n",
              "      <td>0.000287</td>\n",
              "    </tr>\n",
              "    <tr>\n",
              "      <th>5</th>\n",
              "      <td>fuelType1</td>\n",
              "      <td>0.000227</td>\n",
              "    </tr>\n",
              "    <tr>\n",
              "      <th>6</th>\n",
              "      <td>highway08</td>\n",
              "      <td>0.000101</td>\n",
              "    </tr>\n",
              "    <tr>\n",
              "      <th>7</th>\n",
              "      <td>displ</td>\n",
              "      <td>0.000030</td>\n",
              "    </tr>\n",
              "  </tbody>\n",
              "</table>\n",
              "</div>\n",
              "      <button class=\"colab-df-convert\" onclick=\"convertToInteractive('df-f397e65b-aed3-4c3c-bcf4-18cd55b41c2c')\"\n",
              "              title=\"Convert this dataframe to an interactive table.\"\n",
              "              style=\"display:none;\">\n",
              "        \n",
              "  <svg xmlns=\"http://www.w3.org/2000/svg\" height=\"24px\"viewBox=\"0 0 24 24\"\n",
              "       width=\"24px\">\n",
              "    <path d=\"M0 0h24v24H0V0z\" fill=\"none\"/>\n",
              "    <path d=\"M18.56 5.44l.94 2.06.94-2.06 2.06-.94-2.06-.94-.94-2.06-.94 2.06-2.06.94zm-11 1L8.5 8.5l.94-2.06 2.06-.94-2.06-.94L8.5 2.5l-.94 2.06-2.06.94zm10 10l.94 2.06.94-2.06 2.06-.94-2.06-.94-.94-2.06-.94 2.06-2.06.94z\"/><path d=\"M17.41 7.96l-1.37-1.37c-.4-.4-.92-.59-1.43-.59-.52 0-1.04.2-1.43.59L10.3 9.45l-7.72 7.72c-.78.78-.78 2.05 0 2.83L4 21.41c.39.39.9.59 1.41.59.51 0 1.02-.2 1.41-.59l7.78-7.78 2.81-2.81c.8-.78.8-2.07 0-2.86zM5.41 20L4 18.59l7.72-7.72 1.47 1.35L5.41 20z\"/>\n",
              "  </svg>\n",
              "      </button>\n",
              "      \n",
              "  <style>\n",
              "    .colab-df-container {\n",
              "      display:flex;\n",
              "      flex-wrap:wrap;\n",
              "      gap: 12px;\n",
              "    }\n",
              "\n",
              "    .colab-df-convert {\n",
              "      background-color: #E8F0FE;\n",
              "      border: none;\n",
              "      border-radius: 50%;\n",
              "      cursor: pointer;\n",
              "      display: none;\n",
              "      fill: #1967D2;\n",
              "      height: 32px;\n",
              "      padding: 0 0 0 0;\n",
              "      width: 32px;\n",
              "    }\n",
              "\n",
              "    .colab-df-convert:hover {\n",
              "      background-color: #E2EBFA;\n",
              "      box-shadow: 0px 1px 2px rgba(60, 64, 67, 0.3), 0px 1px 3px 1px rgba(60, 64, 67, 0.15);\n",
              "      fill: #174EA6;\n",
              "    }\n",
              "\n",
              "    [theme=dark] .colab-df-convert {\n",
              "      background-color: #3B4455;\n",
              "      fill: #D2E3FC;\n",
              "    }\n",
              "\n",
              "    [theme=dark] .colab-df-convert:hover {\n",
              "      background-color: #434B5C;\n",
              "      box-shadow: 0px 1px 3px 1px rgba(0, 0, 0, 0.15);\n",
              "      filter: drop-shadow(0px 1px 2px rgba(0, 0, 0, 0.3));\n",
              "      fill: #FFFFFF;\n",
              "    }\n",
              "  </style>\n",
              "\n",
              "      <script>\n",
              "        const buttonEl =\n",
              "          document.querySelector('#df-f397e65b-aed3-4c3c-bcf4-18cd55b41c2c button.colab-df-convert');\n",
              "        buttonEl.style.display =\n",
              "          google.colab.kernel.accessAllowed ? 'block' : 'none';\n",
              "\n",
              "        async function convertToInteractive(key) {\n",
              "          const element = document.querySelector('#df-f397e65b-aed3-4c3c-bcf4-18cd55b41c2c');\n",
              "          const dataTable =\n",
              "            await google.colab.kernel.invokeFunction('convertToInteractive',\n",
              "                                                     [key], {});\n",
              "          if (!dataTable) return;\n",
              "\n",
              "          const docLinkHtml = 'Like what you see? Visit the ' +\n",
              "            '<a target=\"_blank\" href=https://colab.research.google.com/notebooks/data_table.ipynb>data table notebook</a>'\n",
              "            + ' to learn more about interactive tables.';\n",
              "          element.innerHTML = '';\n",
              "          dataTable['output_type'] = 'display_data';\n",
              "          await google.colab.output.renderOutput(dataTable, element);\n",
              "          const docLink = document.createElement('div');\n",
              "          docLink.innerHTML = docLinkHtml;\n",
              "          element.appendChild(docLink);\n",
              "        }\n",
              "      </script>\n",
              "    </div>\n",
              "  </div>\n",
              "  "
            ]
          },
          "metadata": {},
          "execution_count": 72
        }
      ]
    },
    {
      "cell_type": "markdown",
      "source": [
        "Here are the features that most allow to predict fuel costs and savings. Not surprisingly, \"fuelCost\" has a significant advantage, since, as we found out above in the EDA, this feature correlates very strongly with the target."
      ],
      "metadata": {
        "id": "EaGg9pk2S4bv"
      }
    },
    {
      "cell_type": "markdown",
      "source": [
        "For the experiment, let's try to find out which features are most important if we remove the \"fuelCost\""
      ],
      "metadata": {
        "id": "zY7KX3JFS7YI"
      }
    },
    {
      "cell_type": "code",
      "source": [
        "# Remove FuelCost08 from dataset, train and predict without FuelCost08\n",
        "X_w = train_features.drop(['fuelCost08'], axis=1)\n",
        "X_test_w = test_features.drop(['fuelCost08'], axis=1)\n",
        "final_model.fit(X_w, y)\n",
        "final_pred_w = final_model.predict(X_test_w)\n",
        "print('Final model performance on the test set without FuelCOst:   MAE = %0.4f.' % mae(y_test, final_pred_w))"
      ],
      "metadata": {
        "id": "wv-yU9aPTATe",
        "colab": {
          "base_uri": "https://localhost:8080/"
        },
        "outputId": "1d7d4f10-2d61-4a56-8bf7-6862c0897b7a"
      },
      "execution_count": null,
      "outputs": [
        {
          "output_type": "stream",
          "name": "stdout",
          "text": [
            "Final model performance on the test set without FuelCOst:   MAE = 2.0177.\n"
          ]
        }
      ]
    },
    {
      "cell_type": "code",
      "source": [
        "# Show the most important features without FuelCost08\n",
        "feature_results_without_FuelCost = pd.DataFrame({'feature': list(X_w.columns),\n",
        "                                'importance': final_model.feature_importances_})\n",
        "\n",
        "feature_results_without_FuelCost = feature_results_without_FuelCost.sort_values('importance', ascending = False).reset_index(drop=True)\n",
        "\n",
        "feature_results_without_FuelCost.head(7)"
      ],
      "metadata": {
        "id": "Xpt2cJgHTChI",
        "colab": {
          "base_uri": "https://localhost:8080/",
          "height": 269
        },
        "outputId": "0231c311-f3cc-4935-eae6-0e5054d2b945"
      },
      "execution_count": null,
      "outputs": [
        {
          "output_type": "execute_result",
          "data": {
            "text/plain": [
              "     feature  importance\n",
              "0  barrels08    0.525436\n",
              "1  fuelType1    0.435705\n",
              "2  highway08    0.035448\n",
              "3  cylinders    0.002349\n",
              "4      displ    0.000882\n",
              "5      drive    0.000133\n",
              "6      trany    0.000047"
            ],
            "text/html": [
              "\n",
              "  <div id=\"df-c7236a18-be9c-424e-bc99-5f34528abca7\">\n",
              "    <div class=\"colab-df-container\">\n",
              "      <div>\n",
              "<style scoped>\n",
              "    .dataframe tbody tr th:only-of-type {\n",
              "        vertical-align: middle;\n",
              "    }\n",
              "\n",
              "    .dataframe tbody tr th {\n",
              "        vertical-align: top;\n",
              "    }\n",
              "\n",
              "    .dataframe thead th {\n",
              "        text-align: right;\n",
              "    }\n",
              "</style>\n",
              "<table border=\"1\" class=\"dataframe\">\n",
              "  <thead>\n",
              "    <tr style=\"text-align: right;\">\n",
              "      <th></th>\n",
              "      <th>feature</th>\n",
              "      <th>importance</th>\n",
              "    </tr>\n",
              "  </thead>\n",
              "  <tbody>\n",
              "    <tr>\n",
              "      <th>0</th>\n",
              "      <td>barrels08</td>\n",
              "      <td>0.525436</td>\n",
              "    </tr>\n",
              "    <tr>\n",
              "      <th>1</th>\n",
              "      <td>fuelType1</td>\n",
              "      <td>0.435705</td>\n",
              "    </tr>\n",
              "    <tr>\n",
              "      <th>2</th>\n",
              "      <td>highway08</td>\n",
              "      <td>0.035448</td>\n",
              "    </tr>\n",
              "    <tr>\n",
              "      <th>3</th>\n",
              "      <td>cylinders</td>\n",
              "      <td>0.002349</td>\n",
              "    </tr>\n",
              "    <tr>\n",
              "      <th>4</th>\n",
              "      <td>displ</td>\n",
              "      <td>0.000882</td>\n",
              "    </tr>\n",
              "    <tr>\n",
              "      <th>5</th>\n",
              "      <td>drive</td>\n",
              "      <td>0.000133</td>\n",
              "    </tr>\n",
              "    <tr>\n",
              "      <th>6</th>\n",
              "      <td>trany</td>\n",
              "      <td>0.000047</td>\n",
              "    </tr>\n",
              "  </tbody>\n",
              "</table>\n",
              "</div>\n",
              "      <button class=\"colab-df-convert\" onclick=\"convertToInteractive('df-c7236a18-be9c-424e-bc99-5f34528abca7')\"\n",
              "              title=\"Convert this dataframe to an interactive table.\"\n",
              "              style=\"display:none;\">\n",
              "        \n",
              "  <svg xmlns=\"http://www.w3.org/2000/svg\" height=\"24px\"viewBox=\"0 0 24 24\"\n",
              "       width=\"24px\">\n",
              "    <path d=\"M0 0h24v24H0V0z\" fill=\"none\"/>\n",
              "    <path d=\"M18.56 5.44l.94 2.06.94-2.06 2.06-.94-2.06-.94-.94-2.06-.94 2.06-2.06.94zm-11 1L8.5 8.5l.94-2.06 2.06-.94-2.06-.94L8.5 2.5l-.94 2.06-2.06.94zm10 10l.94 2.06.94-2.06 2.06-.94-2.06-.94-.94-2.06-.94 2.06-2.06.94z\"/><path d=\"M17.41 7.96l-1.37-1.37c-.4-.4-.92-.59-1.43-.59-.52 0-1.04.2-1.43.59L10.3 9.45l-7.72 7.72c-.78.78-.78 2.05 0 2.83L4 21.41c.39.39.9.59 1.41.59.51 0 1.02-.2 1.41-.59l7.78-7.78 2.81-2.81c.8-.78.8-2.07 0-2.86zM5.41 20L4 18.59l7.72-7.72 1.47 1.35L5.41 20z\"/>\n",
              "  </svg>\n",
              "      </button>\n",
              "      \n",
              "  <style>\n",
              "    .colab-df-container {\n",
              "      display:flex;\n",
              "      flex-wrap:wrap;\n",
              "      gap: 12px;\n",
              "    }\n",
              "\n",
              "    .colab-df-convert {\n",
              "      background-color: #E8F0FE;\n",
              "      border: none;\n",
              "      border-radius: 50%;\n",
              "      cursor: pointer;\n",
              "      display: none;\n",
              "      fill: #1967D2;\n",
              "      height: 32px;\n",
              "      padding: 0 0 0 0;\n",
              "      width: 32px;\n",
              "    }\n",
              "\n",
              "    .colab-df-convert:hover {\n",
              "      background-color: #E2EBFA;\n",
              "      box-shadow: 0px 1px 2px rgba(60, 64, 67, 0.3), 0px 1px 3px 1px rgba(60, 64, 67, 0.15);\n",
              "      fill: #174EA6;\n",
              "    }\n",
              "\n",
              "    [theme=dark] .colab-df-convert {\n",
              "      background-color: #3B4455;\n",
              "      fill: #D2E3FC;\n",
              "    }\n",
              "\n",
              "    [theme=dark] .colab-df-convert:hover {\n",
              "      background-color: #434B5C;\n",
              "      box-shadow: 0px 1px 3px 1px rgba(0, 0, 0, 0.15);\n",
              "      filter: drop-shadow(0px 1px 2px rgba(0, 0, 0, 0.3));\n",
              "      fill: #FFFFFF;\n",
              "    }\n",
              "  </style>\n",
              "\n",
              "      <script>\n",
              "        const buttonEl =\n",
              "          document.querySelector('#df-c7236a18-be9c-424e-bc99-5f34528abca7 button.colab-df-convert');\n",
              "        buttonEl.style.display =\n",
              "          google.colab.kernel.accessAllowed ? 'block' : 'none';\n",
              "\n",
              "        async function convertToInteractive(key) {\n",
              "          const element = document.querySelector('#df-c7236a18-be9c-424e-bc99-5f34528abca7');\n",
              "          const dataTable =\n",
              "            await google.colab.kernel.invokeFunction('convertToInteractive',\n",
              "                                                     [key], {});\n",
              "          if (!dataTable) return;\n",
              "\n",
              "          const docLinkHtml = 'Like what you see? Visit the ' +\n",
              "            '<a target=\"_blank\" href=https://colab.research.google.com/notebooks/data_table.ipynb>data table notebook</a>'\n",
              "            + ' to learn more about interactive tables.';\n",
              "          element.innerHTML = '';\n",
              "          dataTable['output_type'] = 'display_data';\n",
              "          await google.colab.output.renderOutput(dataTable, element);\n",
              "          const docLink = document.createElement('div');\n",
              "          docLink.innerHTML = docLinkHtml;\n",
              "          element.appendChild(docLink);\n",
              "        }\n",
              "      </script>\n",
              "    </div>\n",
              "  </div>\n",
              "  "
            ]
          },
          "metadata": {},
          "execution_count": 74
        }
      ]
    },
    {
      "cell_type": "markdown",
      "source": [
        "## **Make Conclusions**"
      ],
      "metadata": {
        "id": "shos7XxsTEgL"
      }
    },
    {
      "cell_type": "markdown",
      "source": [
        "In conclusion, I will briefly write what we learned from the project:\n",
        "\n",
        "* Using the given fuel economy data, a machine learning model can predict the\n",
        "fuel economy within 2 points.\n",
        "* The most important variables for determining the Fuel Economy Score are the fuelCost08, barrels08, and fuelType1."
      ],
      "metadata": {
        "id": "anY_Oz33TGoY"
      }
    }
  ]
}